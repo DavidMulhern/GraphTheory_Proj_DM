{
 "cells": [
  {
   "attachments": {
    "GMITLogo.jfif": {
     "image/jpeg": "[encoded data removed]"
    }
   },
   "cell_type": "markdown",
   "id": "e723346c",
   "metadata": {},
   "source": [
    "![GMITLogo.jfif](attachment:GMITLogo.jfif)\n",
    "\n",
    "***\n",
    "\n",
    "<center>\n",
    "    <b>Module: Graph Theory, Summer 21/22 Assessment.</b>\n",
    "    <br>\n",
    "    <b>Student: David Mulhern</b>\n",
    "    <br>\n",
    "    <b>ID: G00268549.</b>\n",
    "    <br>\n",
    "    <b>Lecturer: Dr. Ian McLoughlin.</b>\n",
    "</center>\n",
    "\n",
    "***"
   ]
  },
  {
   "cell_type": "code",
   "execution_count": null,
   "id": "0fb731cc",
   "metadata": {},
   "outputs": [],
   "source": []
  },
  {
   "cell_type": "code",
   "execution_count": null,
   "id": "04b5eb91",
   "metadata": {},
   "outputs": [],
   "source": []
  },
  {
   "cell_type": "code",
   "execution_count": null,
   "id": "f3d52ea9",
   "metadata": {},
   "outputs": [],
   "source": []
  },
  {
   "cell_type": "code",
   "execution_count": null,
   "id": "7c38447f",
   "metadata": {},
   "outputs": [],
   "source": []
  }
 ],
 "metadata": {
  "kernelspec": {
   "display_name": "Python 3 (ipykernel)",
   "language": "python",
   "name": "python3"
  },
  "language_info": {
   "codemirror_mode": {
    "name": "ipython",
    "version": 3
   },
   "file_extension": ".py",
   "mimetype": "text/x-python",
   "name": "python",
   "nbconvert_exporter": "python",
   "pygments_lexer": "ipython3",
   "version": "3.9.7"
  }
 },
 "nbformat": 4,
 "nbformat_minor": 5
}
